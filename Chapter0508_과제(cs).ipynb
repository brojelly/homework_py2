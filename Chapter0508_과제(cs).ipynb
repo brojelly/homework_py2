{
 "cells": [
  {
   "cell_type": "markdown",
   "metadata": {
    "id": "WXEwMsfUct7U"
   },
   "source": [
    "컴퓨터 기초 지식을 의미하는 CS(Computer science)는<br>\n",
    "코딩 테스트와 함께 기술 면접에서 지원자에게 필수적으로 요구합니다.<br>\n",
    "\n",
    "수업 내용 중 기술 면접에 자주 나오는 질문 3가지와 기본적으로 알아야 할 내용 과제로 선정했습니다.<br>\n",
    "\n",
    "관련 내용에 대해서는 구글링 또는 관련 서적을 통해 상세히 공부하시고<br>\n",
    "답변은 최대한 핵심만 담아 간결하게 작성해주세요<br>\n",
    "\n",
    "기술 블로그를 운영 중이신 경우<br>\n",
    "답변 내용을 기술 블로그에 작성하신 후 링크를 답변에 남겨주셔도 됩니다.<br>"
   ]
  },
  {
   "cell_type": "markdown",
   "metadata": {
    "id": "qoyC9wF-3hvs"
   },
   "source": [
    "-----"
   ]
  },
  {
   "cell_type": "markdown",
   "metadata": {
    "id": "rAD_O3Gmc_43"
   },
   "source": [
    "[문제1]\n",
    "\n",
    "Python의 변수 할당 개념을 다른 언어와 비교해 설명해주세요\n"
   ]
  },
  {
   "cell_type": "markdown",
   "metadata": {},
   "source": [
    "| 언어        | 변수 할당 방식                 | 메모리 관리                      | 변수 타입 변경 가능 여부      | 변수 할당 방식 예시             |\n",
    "|------------|-----------------------------|--------------------------------|----------------------------|--------------------------------|\n",
    "| Python     | 객체 참조 (동적 타입 지정)   | 가비지 컬렉션 자동 관리         | 가능 (동적 타이핑)         | `a = 10; a = 'hello'`         |\n",
    "| C          | 메모리 주소 직접 저장 (정적 타입 지정) | 개발자가 직접 메모리 해제 (`malloc/free`) | 불가능 (변수 선언 시 타입 고정) | `int a = 10; // 고정된 정수형 변수` |\n",
    "| Java       | 객체 참조 (정적 타입 지정)   | 가비지 컬렉션 자동 관리         | 불가능 (변수 선언 시 타입 고정) | `int a = 10; // 고정된 정수형 변수` |\n",
    "| JavaScript | 객체 참조 (동적 타입 지정)   | 가비지 컬렉션 자동 관리         | 가능 (동적 타이핑)         | `let a = 10; a = 'hello'`     |\n"
   ]
  },
  {
   "cell_type": "markdown",
   "metadata": {},
   "source": [
    "---"
   ]
  },
  {
   "cell_type": "markdown",
   "metadata": {
    "id": "3uK_auXYdgk2"
   },
   "source": [
    "[문제2]\n",
    "\n",
    "Python의 실수형(float) 계산 시 오차가 발생하는 이유에 대해 간단히 설명해 주세요"
   ]
  },
  {
   "cell_type": "markdown",
   "metadata": {},
   "source": [
    "float 타입은 2진법으로 실수를 저장하면서 반올림 오차가 발생하기 때문에 미세한 계산 오류가 생길 수 있습니다.\n",
    "중요한 금융 계산이나 정밀한 연산이 필요할 때는 decimal 모듈을 활용하는 것이 좋습니다! 🚀😊"
   ]
  },
  {
   "cell_type": "markdown",
   "metadata": {},
   "source": [
    "----"
   ]
  },
  {
   "cell_type": "markdown",
   "metadata": {
    "id": "2Jte2VLKdiPm"
   },
   "source": [
    "[문제3]\n",
    "\n",
    "슬라이싱에 대해 간단히 설명해주세요"
   ]
  },
  {
   "cell_type": "markdown",
   "metadata": {},
   "source": [
    "**슬라이싱(Slicing)**은 문자열, 리스트, 튜플과 같은 시퀀스(Sequence) 자료형에서 일정 부분을 잘라내어 가져오는 방법입니다.  \n",
    "\n",
    "text = \"PythonProgramming\"  \n",
    "\n",
    "print(text[0:6])    # 'Python'  (0부터 5까지)  \n",
    "print(text[6:])     # 'Programming' (6부터 끝까지)  \n",
    "print(text[:6])     # 'Python' (처음부터 5까지)  \n",
    "print(text[::2])    # 'PtoPormig' (2칸씩 건너뛰며 가져오기)  \n",
    "print(text[::-1])   # 'gnimmargorPnohtyP' (문자열 뒤집기)  \n"
   ]
  }
 ],
 "metadata": {
  "colab": {
   "authorship_tag": "ABX9TyP7YKA5FdtGggYfD74V7SMJ",
   "provenance": []
  },
  "kernelspec": {
   "display_name": "Python 3",
   "name": "python3"
  },
  "language_info": {
   "name": "python"
  }
 },
 "nbformat": 4,
 "nbformat_minor": 0
}
